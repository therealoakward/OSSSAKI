{
 "cells": [
  {
   "cell_type": "code",
   "execution_count": 112,
   "metadata": {
    "scrolled": true
   },
   "outputs": [
    {
     "data": {
      "text/html": [
       "<div>\n",
       "<style scoped>\n",
       "    .dataframe tbody tr th:only-of-type {\n",
       "        vertical-align: middle;\n",
       "    }\n",
       "\n",
       "    .dataframe tbody tr th {\n",
       "        vertical-align: top;\n",
       "    }\n",
       "\n",
       "    .dataframe thead th {\n",
       "        text-align: right;\n",
       "    }\n",
       "</style>\n",
       "<table border=\"1\" class=\"dataframe\">\n",
       "  <thead>\n",
       "    <tr style=\"text-align: right;\">\n",
       "      <th></th>\n",
       "      <th>label</th>\n",
       "      <th>relevant_data</th>\n",
       "    </tr>\n",
       "  </thead>\n",
       "  <tbody>\n",
       "    <tr>\n",
       "      <th>0</th>\n",
       "      <td>income</td>\n",
       "      <td>Lohn   Gehalt Gehalt Adorsys GmbH   Co  KG End...</td>\n",
       "    </tr>\n",
       "    <tr>\n",
       "      <th>1</th>\n",
       "      <td>living</td>\n",
       "      <td>Miete Byladem Sbt De                     Miete...</td>\n",
       "    </tr>\n",
       "    <tr>\n",
       "      <th>2</th>\n",
       "      <td>private</td>\n",
       "      <td>Bargeld            Uhr Nuernberg All Eur      ...</td>\n",
       "    </tr>\n",
       "    <tr>\n",
       "      <th>3</th>\n",
       "      <td>standardOfLiving</td>\n",
       "      <td>Lebensmittel   Getraenke      Edeka Neubauer N...</td>\n",
       "    </tr>\n",
       "    <tr>\n",
       "      <th>4</th>\n",
       "      <td>leisure</td>\n",
       "      <td>Spontanausgabe Amazon</td>\n",
       "    </tr>\n",
       "    <tr>\n",
       "      <th>5</th>\n",
       "      <td>finance</td>\n",
       "      <td>Mieteinnahmen Mietzuschuss End To End Ref   No...</td>\n",
       "    </tr>\n",
       "    <tr>\n",
       "      <th>6</th>\n",
       "      <td>standardOfLiving</td>\n",
       "      <td>Lebensmittel   Getraenke      Edeka Neubauer N...</td>\n",
       "    </tr>\n",
       "    <tr>\n",
       "      <th>7</th>\n",
       "      <td>standardOfLiving</td>\n",
       "      <td>Drogerie Dm Fil      H        Nuernberg De    ...</td>\n",
       "    </tr>\n",
       "    <tr>\n",
       "      <th>8</th>\n",
       "      <td>finance</td>\n",
       "      <td>Geldanlage Ccbade  Xxx De                     ...</td>\n",
       "    </tr>\n",
       "    <tr>\n",
       "      <th>9</th>\n",
       "      <td>private</td>\n",
       "      <td>Bargeld            Uhr Nuernberg All Eur      ...</td>\n",
       "    </tr>\n",
       "    <tr>\n",
       "      <th>10</th>\n",
       "      <td>income</td>\n",
       "      <td>Lohn   Gehalt Gehalt Adorsys GmbH   Co  KG End...</td>\n",
       "    </tr>\n",
       "    <tr>\n",
       "      <th>11</th>\n",
       "      <td>living</td>\n",
       "      <td>Miete Byladem Sbt De                     Miete...</td>\n",
       "    </tr>\n",
       "    <tr>\n",
       "      <th>12</th>\n",
       "      <td>finance</td>\n",
       "      <td>Mieteinnahmen Mietzuschuss End To End Ref   No...</td>\n",
       "    </tr>\n",
       "    <tr>\n",
       "      <th>13</th>\n",
       "      <td>standardOfLiving</td>\n",
       "      <td>Lebensmittel   Getraenke      Edeka Neubauer N...</td>\n",
       "    </tr>\n",
       "    <tr>\n",
       "      <th>14</th>\n",
       "      <td>standardOfLiving</td>\n",
       "      <td>Drogerie Dm Fil      H        Nuernberg De    ...</td>\n",
       "    </tr>\n",
       "    <tr>\n",
       "      <th>15</th>\n",
       "      <td>standardOfLiving</td>\n",
       "      <td>Lebensmittel   Getraenke      Edeka Neubauer N...</td>\n",
       "    </tr>\n",
       "    <tr>\n",
       "      <th>16</th>\n",
       "      <td>standardOfLiving</td>\n",
       "      <td>Lebensmittel   Getraenke      Edeka Neubauer N...</td>\n",
       "    </tr>\n",
       "    <tr>\n",
       "      <th>17</th>\n",
       "      <td>finance</td>\n",
       "      <td>Geldanlage Ccbade  Xxx De                     ...</td>\n",
       "    </tr>\n",
       "    <tr>\n",
       "      <th>18</th>\n",
       "      <td>standardOfLiving</td>\n",
       "      <td>Drogerie Dm Fil      H        Nuernberg De    ...</td>\n",
       "    </tr>\n",
       "    <tr>\n",
       "      <th>19</th>\n",
       "      <td>private</td>\n",
       "      <td>Bargeld            Uhr Nuernberg All Eur      ...</td>\n",
       "    </tr>\n",
       "    <tr>\n",
       "      <th>20</th>\n",
       "      <td>finance</td>\n",
       "      <td>Geldanlage Ssknde  Xxx De                     ...</td>\n",
       "    </tr>\n",
       "    <tr>\n",
       "      <th>21</th>\n",
       "      <td>income</td>\n",
       "      <td>Lohn   Gehalt Gehalt Adorsys GmbH   Co  KG End...</td>\n",
       "    </tr>\n",
       "    <tr>\n",
       "      <th>22</th>\n",
       "      <td>living</td>\n",
       "      <td>Miete Byladem Sbt De                     Miete...</td>\n",
       "    </tr>\n",
       "    <tr>\n",
       "      <th>23</th>\n",
       "      <td>finance</td>\n",
       "      <td>Mieteinnahmen Mietzuschuss End To End Ref   No...</td>\n",
       "    </tr>\n",
       "    <tr>\n",
       "      <th>24</th>\n",
       "      <td>standardOfLiving</td>\n",
       "      <td>Lebensmittel   Getraenke      Edeka Neubauer N...</td>\n",
       "    </tr>\n",
       "    <tr>\n",
       "      <th>25</th>\n",
       "      <td>standardOfLiving</td>\n",
       "      <td>Lebensmittel   Getraenke      Edeka Neubauer N...</td>\n",
       "    </tr>\n",
       "    <tr>\n",
       "      <th>26</th>\n",
       "      <td>standardOfLiving</td>\n",
       "      <td>Lebensmittel   Getraenke      Edeka Neubauer N...</td>\n",
       "    </tr>\n",
       "    <tr>\n",
       "      <th>27</th>\n",
       "      <td>finance</td>\n",
       "      <td>Geldanlage Ccbade  Xxx De                     ...</td>\n",
       "    </tr>\n",
       "    <tr>\n",
       "      <th>28</th>\n",
       "      <td>income</td>\n",
       "      <td>Lohn   Gehalt Gehalt Adorsys GmbH   Co  KG End...</td>\n",
       "    </tr>\n",
       "    <tr>\n",
       "      <th>29</th>\n",
       "      <td>living</td>\n",
       "      <td>Miete Byladem Sbt De                     Miete...</td>\n",
       "    </tr>\n",
       "    <tr>\n",
       "      <th>...</th>\n",
       "      <td>...</td>\n",
       "      <td>...</td>\n",
       "    </tr>\n",
       "    <tr>\n",
       "      <th>179</th>\n",
       "      <td>private</td>\n",
       "      <td>Bargeld            Uhr Nuernberg All Eur      ...</td>\n",
       "    </tr>\n",
       "    <tr>\n",
       "      <th>180</th>\n",
       "      <td>finance</td>\n",
       "      <td>Geldanlage Ssknde  Xxx De                     ...</td>\n",
       "    </tr>\n",
       "    <tr>\n",
       "      <th>181</th>\n",
       "      <td>income</td>\n",
       "      <td>Lohn   Gehalt Gehalt Adorsys GmbH   Co  KG End...</td>\n",
       "    </tr>\n",
       "    <tr>\n",
       "      <th>182</th>\n",
       "      <td>living</td>\n",
       "      <td>Miete Byladem Sbt De                     Miete...</td>\n",
       "    </tr>\n",
       "    <tr>\n",
       "      <th>183</th>\n",
       "      <td>finance</td>\n",
       "      <td>Mieteinnahmen Mietzuschuss End To End Ref   No...</td>\n",
       "    </tr>\n",
       "    <tr>\n",
       "      <th>184</th>\n",
       "      <td>standardOfLiving</td>\n",
       "      <td>Lebensmittel   Getraenke      Edeka Neubauer N...</td>\n",
       "    </tr>\n",
       "    <tr>\n",
       "      <th>185</th>\n",
       "      <td>standardOfLiving</td>\n",
       "      <td>Lebensmittel   Getraenke      Edeka Neubauer N...</td>\n",
       "    </tr>\n",
       "    <tr>\n",
       "      <th>186</th>\n",
       "      <td>standardOfLiving</td>\n",
       "      <td>Lebensmittel   Getraenke      Edeka Neubauer N...</td>\n",
       "    </tr>\n",
       "    <tr>\n",
       "      <th>187</th>\n",
       "      <td>finance</td>\n",
       "      <td>Geldanlage Ccbade  Xxx De                     ...</td>\n",
       "    </tr>\n",
       "    <tr>\n",
       "      <th>188</th>\n",
       "      <td>income</td>\n",
       "      <td>Lohn   Gehalt Gehalt Adorsys GmbH   Co  KG End...</td>\n",
       "    </tr>\n",
       "    <tr>\n",
       "      <th>189</th>\n",
       "      <td>living</td>\n",
       "      <td>Miete Byladem Sbt De                     Miete...</td>\n",
       "    </tr>\n",
       "    <tr>\n",
       "      <th>190</th>\n",
       "      <td>standardOfLiving</td>\n",
       "      <td>Drogerie Dm Fil      H        Nuernberg De    ...</td>\n",
       "    </tr>\n",
       "    <tr>\n",
       "      <th>191</th>\n",
       "      <td>private</td>\n",
       "      <td>Bargeld            Uhr Nuernberg All Eur      ...</td>\n",
       "    </tr>\n",
       "    <tr>\n",
       "      <th>192</th>\n",
       "      <td>finance</td>\n",
       "      <td>Mieteinnahmen Mietzuschuss End To End Ref   No...</td>\n",
       "    </tr>\n",
       "    <tr>\n",
       "      <th>193</th>\n",
       "      <td>finance</td>\n",
       "      <td>Geldanlage Ccbade  Xxx De                     ...</td>\n",
       "    </tr>\n",
       "    <tr>\n",
       "      <th>194</th>\n",
       "      <td>income</td>\n",
       "      <td>Lohn   Gehalt Gehalt Adorsys GmbH   Co  KG End...</td>\n",
       "    </tr>\n",
       "    <tr>\n",
       "      <th>195</th>\n",
       "      <td>living</td>\n",
       "      <td>Miete Byladem Sbt De                     Miete...</td>\n",
       "    </tr>\n",
       "    <tr>\n",
       "      <th>196</th>\n",
       "      <td>finance</td>\n",
       "      <td>Geldanlage Spdude  Xxx De                     ...</td>\n",
       "    </tr>\n",
       "    <tr>\n",
       "      <th>197</th>\n",
       "      <td>standardOfLiving</td>\n",
       "      <td>Lebensmittel   Getraenke      Edeka Neubauer N...</td>\n",
       "    </tr>\n",
       "    <tr>\n",
       "      <th>198</th>\n",
       "      <td>finance</td>\n",
       "      <td>Mieteinnahmen Mietzuschuss End To End Ref   No...</td>\n",
       "    </tr>\n",
       "    <tr>\n",
       "      <th>199</th>\n",
       "      <td>finance</td>\n",
       "      <td>Geldanlage Ccbade  Xxx De                     ...</td>\n",
       "    </tr>\n",
       "    <tr>\n",
       "      <th>200</th>\n",
       "      <td>income</td>\n",
       "      <td>Lohn   Gehalt Gehalt Adorsys GmbH   Co  KG End...</td>\n",
       "    </tr>\n",
       "    <tr>\n",
       "      <th>201</th>\n",
       "      <td>living</td>\n",
       "      <td>Miete Byladem Sbt De                     Miete...</td>\n",
       "    </tr>\n",
       "    <tr>\n",
       "      <th>202</th>\n",
       "      <td>standardOfLiving</td>\n",
       "      <td>Drogerie Dm Fil      H        Nuernberg De    ...</td>\n",
       "    </tr>\n",
       "    <tr>\n",
       "      <th>203</th>\n",
       "      <td>private</td>\n",
       "      <td>Bargeld            Uhr Nuernberg All Eur      ...</td>\n",
       "    </tr>\n",
       "    <tr>\n",
       "      <th>204</th>\n",
       "      <td>finance</td>\n",
       "      <td>Mieteinnahmen Mietzuschuss End To End Ref   No...</td>\n",
       "    </tr>\n",
       "    <tr>\n",
       "      <th>205</th>\n",
       "      <td>finance</td>\n",
       "      <td>Geldanlage Ccbade  Xxx De                     ...</td>\n",
       "    </tr>\n",
       "    <tr>\n",
       "      <th>206</th>\n",
       "      <td>income</td>\n",
       "      <td>Lohn   Gehalt Gehalt Adorsys GmbH   Co  KG End...</td>\n",
       "    </tr>\n",
       "    <tr>\n",
       "      <th>207</th>\n",
       "      <td>finance</td>\n",
       "      <td>Geldanlage Ssknde  Xxx De                     ...</td>\n",
       "    </tr>\n",
       "    <tr>\n",
       "      <th>208</th>\n",
       "      <td>leisure</td>\n",
       "      <td>Lastschrift  Einzugserm chtigung  Abonnement K...</td>\n",
       "    </tr>\n",
       "  </tbody>\n",
       "</table>\n",
       "<p>209 rows × 2 columns</p>\n",
       "</div>"
      ],
      "text/plain": [
       "                label                                      relevant_data\n",
       "0              income  Lohn   Gehalt Gehalt Adorsys GmbH   Co  KG End...\n",
       "1              living  Miete Byladem Sbt De                     Miete...\n",
       "2             private  Bargeld            Uhr Nuernberg All Eur      ...\n",
       "3    standardOfLiving  Lebensmittel   Getraenke      Edeka Neubauer N...\n",
       "4             leisure                              Spontanausgabe Amazon\n",
       "5             finance  Mieteinnahmen Mietzuschuss End To End Ref   No...\n",
       "6    standardOfLiving  Lebensmittel   Getraenke      Edeka Neubauer N...\n",
       "7    standardOfLiving  Drogerie Dm Fil      H        Nuernberg De    ...\n",
       "8             finance  Geldanlage Ccbade  Xxx De                     ...\n",
       "9             private  Bargeld            Uhr Nuernberg All Eur      ...\n",
       "10             income  Lohn   Gehalt Gehalt Adorsys GmbH   Co  KG End...\n",
       "11             living  Miete Byladem Sbt De                     Miete...\n",
       "12            finance  Mieteinnahmen Mietzuschuss End To End Ref   No...\n",
       "13   standardOfLiving  Lebensmittel   Getraenke      Edeka Neubauer N...\n",
       "14   standardOfLiving  Drogerie Dm Fil      H        Nuernberg De    ...\n",
       "15   standardOfLiving  Lebensmittel   Getraenke      Edeka Neubauer N...\n",
       "16   standardOfLiving  Lebensmittel   Getraenke      Edeka Neubauer N...\n",
       "17            finance  Geldanlage Ccbade  Xxx De                     ...\n",
       "18   standardOfLiving  Drogerie Dm Fil      H        Nuernberg De    ...\n",
       "19            private  Bargeld            Uhr Nuernberg All Eur      ...\n",
       "20            finance  Geldanlage Ssknde  Xxx De                     ...\n",
       "21             income  Lohn   Gehalt Gehalt Adorsys GmbH   Co  KG End...\n",
       "22             living  Miete Byladem Sbt De                     Miete...\n",
       "23            finance  Mieteinnahmen Mietzuschuss End To End Ref   No...\n",
       "24   standardOfLiving  Lebensmittel   Getraenke      Edeka Neubauer N...\n",
       "25   standardOfLiving  Lebensmittel   Getraenke      Edeka Neubauer N...\n",
       "26   standardOfLiving  Lebensmittel   Getraenke      Edeka Neubauer N...\n",
       "27            finance  Geldanlage Ccbade  Xxx De                     ...\n",
       "28             income  Lohn   Gehalt Gehalt Adorsys GmbH   Co  KG End...\n",
       "29             living  Miete Byladem Sbt De                     Miete...\n",
       "..                ...                                                ...\n",
       "179           private  Bargeld            Uhr Nuernberg All Eur      ...\n",
       "180           finance  Geldanlage Ssknde  Xxx De                     ...\n",
       "181            income  Lohn   Gehalt Gehalt Adorsys GmbH   Co  KG End...\n",
       "182            living  Miete Byladem Sbt De                     Miete...\n",
       "183           finance  Mieteinnahmen Mietzuschuss End To End Ref   No...\n",
       "184  standardOfLiving  Lebensmittel   Getraenke      Edeka Neubauer N...\n",
       "185  standardOfLiving  Lebensmittel   Getraenke      Edeka Neubauer N...\n",
       "186  standardOfLiving  Lebensmittel   Getraenke      Edeka Neubauer N...\n",
       "187           finance  Geldanlage Ccbade  Xxx De                     ...\n",
       "188            income  Lohn   Gehalt Gehalt Adorsys GmbH   Co  KG End...\n",
       "189            living  Miete Byladem Sbt De                     Miete...\n",
       "190  standardOfLiving  Drogerie Dm Fil      H        Nuernberg De    ...\n",
       "191           private  Bargeld            Uhr Nuernberg All Eur      ...\n",
       "192           finance  Mieteinnahmen Mietzuschuss End To End Ref   No...\n",
       "193           finance  Geldanlage Ccbade  Xxx De                     ...\n",
       "194            income  Lohn   Gehalt Gehalt Adorsys GmbH   Co  KG End...\n",
       "195            living  Miete Byladem Sbt De                     Miete...\n",
       "196           finance  Geldanlage Spdude  Xxx De                     ...\n",
       "197  standardOfLiving  Lebensmittel   Getraenke      Edeka Neubauer N...\n",
       "198           finance  Mieteinnahmen Mietzuschuss End To End Ref   No...\n",
       "199           finance  Geldanlage Ccbade  Xxx De                     ...\n",
       "200            income  Lohn   Gehalt Gehalt Adorsys GmbH   Co  KG End...\n",
       "201            living  Miete Byladem Sbt De                     Miete...\n",
       "202  standardOfLiving  Drogerie Dm Fil      H        Nuernberg De    ...\n",
       "203           private  Bargeld            Uhr Nuernberg All Eur      ...\n",
       "204           finance  Mieteinnahmen Mietzuschuss End To End Ref   No...\n",
       "205           finance  Geldanlage Ccbade  Xxx De                     ...\n",
       "206            income  Lohn   Gehalt Gehalt Adorsys GmbH   Co  KG End...\n",
       "207           finance  Geldanlage Ssknde  Xxx De                     ...\n",
       "208           leisure  Lastschrift  Einzugserm chtigung  Abonnement K...\n",
       "\n",
       "[209 rows x 2 columns]"
      ]
     },
     "execution_count": 112,
     "metadata": {},
     "output_type": "execute_result"
    }
   ],
   "source": [
    "from sklearn.naive_bayes import GaussianNB\n",
    "from sklearn.metrics import accuracy_score\n",
    "from sklearn.feature_extraction.text import CountVectorizer\n",
    "\n",
    "# Load the Pandas libraries\n",
    "import pandas\n",
    "\n",
    "# Load regEx libraries\n",
    "import re\n",
    "\n",
    "# Read data from file 'filename.csv' \n",
    "# (in the same directory that your python process is based)\n",
    "# Control delimiters, rows, column names with read_csv (see later) \n",
    "data = pandas.read_csv(\"Ex1data.csv\",sep = \";\") \n",
    "\n",
    "#only these 3 cols are relevant to me\n",
    "datacut = pandas.read_csv(\"Ex1data.csv\",sep = \";\", usecols=[\"Buchungstext\",\"Verwendungszweck\",\"label\"]) \n",
    "\n",
    "# Preview the first 5 lines of the loaded data \n",
    "#data.head()\n",
    "\n",
    "#show me some data:\n",
    "#data[\"Verwendungszweck\"]\n",
    "#data[\"Buchungstext\"]\n",
    "#data[\"label\"]\n",
    "\n",
    "\n",
    "#merge both relvevant cols\n",
    "datacut[\"relevant_data\"] = datacut[\"Buchungstext\"] +\" \"+ datacut[\"Verwendungszweck\"]\n",
    "\n",
    "#remove numbers and special characters\n",
    "#datacut[\"relevant_data\"] = datacut[\"relevant_data\"].apply(lambda x: re.sub('[0-9\\\\*\\\\-\\\\+\\\\/\\\\,\\\\;\\\\:\\\\&\\\\%]',' ',x))\n",
    "datacut[\"relevant_data\"] = datacut[\"relevant_data\"].apply(lambda x: re.sub('[^a-zA-Z]',' ',x))\n",
    "\n",
    "#now remove obsolete cols from dataframe\n",
    "del datacut['Buchungstext']\n",
    "del datacut['Verwendungszweck']\n",
    "\n",
    "#show result\n",
    "datacut\n",
    "\n"
   ]
  },
  {
   "cell_type": "code",
   "execution_count": 113,
   "metadata": {
    "scrolled": false
   },
   "outputs": [
    {
     "data": {
      "text/plain": [
       "1.0"
      ]
     },
     "execution_count": 113,
     "metadata": {},
     "output_type": "execute_result"
    }
   ],
   "source": [
    "#accuracylist: which saves the accuracy of the predicted data of every interval I chose\n",
    "al=[]\n",
    "\n",
    "#define first 2 datatsets\n",
    "#trainingdata: 0to7+28to208\n",
    "#testdata: 8to27\n",
    "first_20 = datacut.iloc[8:28]\n",
    "rest_first_20 = pandas.concat([datacut.iloc[0:8],datacut.iloc[28:209]])\n",
    "#initialize first countvectorizer\n",
    "#and feed him with trainingdata\n",
    "cv1 = CountVectorizer()\n",
    "cv1 = cv1.fit(rest_first[\"relevant_data\"])\n",
    "\n",
    "gnb = GaussianNB()\n",
    "#fit to the training data\n",
    "gnb = gnb.fit(cv1.transform(rest_first_20['relevant_data']).toarray(), rest_first_20[\"label\"].tolist())\n",
    "\n",
    "#predict for the test data\n",
    "preds_first_20 = gnb.predict(cv1.transform(first_20['relevant_data']).toarray())\n",
    "acc1=accuracy_score(preds_first_20,first_20['label'].tolist())\n",
    "\n",
    "#add calculated accuracy to the list\n",
    "al.append(acc1)\n",
    "\n",
    "#show actual accuracy\n",
    "acc1\n"
   ]
  },
  {
   "cell_type": "code",
   "execution_count": 114,
   "metadata": {},
   "outputs": [
    {
     "data": {
      "text/plain": [
       "1.0"
      ]
     },
     "execution_count": 114,
     "metadata": {},
     "output_type": "execute_result"
    }
   ],
   "source": [
    "#repeat for the other intervals I arbitrairily defined\n",
    "second_20= datacut.iloc[28:48]\n",
    "rest_second_20 = pandas.concat([datacut.iloc[0:28], datacut.iloc[48:209]])\n",
    "cv2 = CountVectorizer()\n",
    "cv2=cv2.fit(rest_second_20[\"relevant_data\"])\n",
    "\n",
    "gnb = GaussianNB()\n",
    "gnb = gnb.fit(cv2.transform(rest_second_20['relevant_data']).toarray(), rest_second_20[\"label\"].tolist() )\n",
    "preds_sec_20 = gnb.predict(cv2.transform(second_20['relevant_data']).toarray())\n",
    "acc2=accuracy_score(preds_sec_20,second_20['label'].tolist())\n",
    "al.append(acc2)\n",
    "acc2"
   ]
  },
  {
   "cell_type": "code",
   "execution_count": 115,
   "metadata": {},
   "outputs": [
    {
     "data": {
      "text/plain": [
       "0.75"
      ]
     },
     "execution_count": 115,
     "metadata": {},
     "output_type": "execute_result"
    }
   ],
   "source": [
    "third_20= datacut.iloc[48:68]\n",
    "rest_third_20 = pandas.concat([datacut.iloc[0:48],datacut.iloc[68:209]])\n",
    "cv3 = CountVectorizer()\n",
    "cv3=cv3.fit(rest_third_20[\"relevant_data\"])\n",
    "\n",
    "\n",
    "gnb = GaussianNB()\n",
    "gnb = gnb.fit(cv3.transform(rest_third_20['relevant_data']).toarray(), rest_third_20[\"label\"].tolist())\n",
    "preds_third_20 = gnb.predict(cv3.transform(third_20['relevant_data']).toarray())\n",
    "acc3=accuracy_score(preds_third_20,third_20['label'].tolist())\n",
    "al.append(acc3)\n",
    "acc3"
   ]
  },
  {
   "cell_type": "code",
   "execution_count": 116,
   "metadata": {},
   "outputs": [
    {
     "data": {
      "text/plain": [
       "0.8"
      ]
     },
     "execution_count": 116,
     "metadata": {},
     "output_type": "execute_result"
    }
   ],
   "source": [
    "fourth_20= datacut.iloc[68:88]\n",
    "rest_fourth_20 = pandas.concat([datacut.iloc[0:68],datacut.iloc[88:209]])\n",
    "cv4 = CountVectorizer()\n",
    "cv4=cv4.fit(rest_fourth_20[\"relevant_data\"])\n",
    "\n",
    "\n",
    "gnb = GaussianNB()\n",
    "gnb = gnb.fit(cv4.transform(rest_fourth_20['relevant_data']).toarray(), rest_fourth_20[\"label\"].tolist())\n",
    "preds_fourth_20 = gnb.predict(cv4.transform(fourth_20['relevant_data']).toarray())\n",
    "acc4=accuracy_score(preds_fourth_20,fourth_20['label'].tolist())\n",
    "al.append(acc4)\n",
    "acc4"
   ]
  },
  {
   "cell_type": "code",
   "execution_count": 117,
   "metadata": {},
   "outputs": [
    {
     "data": {
      "text/plain": [
       "0.8"
      ]
     },
     "execution_count": 117,
     "metadata": {},
     "output_type": "execute_result"
    }
   ],
   "source": [
    "fifth_20= datacut.iloc[88:108]\n",
    "rest_fifth_20 = pandas.concat([datacut.iloc[0:88],datacut.iloc[108:209]])\n",
    "cv5 = CountVectorizer()\n",
    "cv5=cv5.fit(rest_fifth_20[\"relevant_data\"])\n",
    "\n",
    "\n",
    "gnb = GaussianNB()\n",
    "gnb = gnb.fit(cv5.transform(rest_fifth_20['relevant_data']).toarray(), rest_fifth_20[\"label\"].tolist())\n",
    "preds_fifth_20 = gnb.predict(cv5.transform(fifth_20['relevant_data']).toarray())\n",
    "acc5=accuracy_score(preds_fifth_20,fifth_20['label'].tolist())\n",
    "al.append(acc5)\n",
    "acc5"
   ]
  },
  {
   "cell_type": "code",
   "execution_count": 118,
   "metadata": {},
   "outputs": [
    {
     "data": {
      "text/plain": [
       "0.75"
      ]
     },
     "execution_count": 118,
     "metadata": {},
     "output_type": "execute_result"
    }
   ],
   "source": [
    "sixth_20= datacut.iloc[108:128]\n",
    "rest_sixth_20 = pandas.concat([datacut.iloc[0:108],datacut.iloc[128:209]])\n",
    "cv6 = CountVectorizer()\n",
    "cv6=cv6.fit(rest_sixth_20[\"relevant_data\"])\n",
    "\n",
    "\n",
    "gnb = GaussianNB()\n",
    "gnb = gnb.fit(cv6.transform(rest_sixth_20['relevant_data']).toarray(), rest_sixth_20[\"label\"].tolist())\n",
    "preds_sixth_20 = gnb.predict(cv6.transform(sixth_20['relevant_data']).toarray())\n",
    "acc6=accuracy_score(preds_sixth_20,sixth_20['label'].tolist())\n",
    "al.append(acc6)\n",
    "acc6"
   ]
  },
  {
   "cell_type": "code",
   "execution_count": 119,
   "metadata": {},
   "outputs": [
    {
     "data": {
      "text/plain": [
       "0.8"
      ]
     },
     "execution_count": 119,
     "metadata": {},
     "output_type": "execute_result"
    }
   ],
   "source": [
    "seventh_20= datacut.iloc[128:148]\n",
    "rest_seventh_20 = pandas.concat([datacut.iloc[0:128],datacut.iloc[148:209]])\n",
    "cv7 = CountVectorizer()\n",
    "cv7=cv7.fit(rest_seventh_20[\"relevant_data\"])\n",
    "\n",
    "\n",
    "gnb = GaussianNB()\n",
    "gnb = gnb.fit(cv7.transform(rest_seventh_20['relevant_data']).toarray(), rest_seventh_20[\"label\"].tolist())\n",
    "preds_seventh_20 = gnb.predict(cv7.transform(seventh_20['relevant_data']).toarray())\n",
    "acc7=accuracy_score(preds_seventh_20,seventh_20['label'].tolist())\n",
    "al.append(acc7)\n",
    "acc7"
   ]
  },
  {
   "cell_type": "code",
   "execution_count": 120,
   "metadata": {},
   "outputs": [
    {
     "data": {
      "text/plain": [
       "0.9"
      ]
     },
     "execution_count": 120,
     "metadata": {},
     "output_type": "execute_result"
    }
   ],
   "source": [
    "eightth_20= datacut.iloc[148:168]\n",
    "rest_eightth_20 = pandas.concat([datacut.iloc[0:148],datacut.iloc[168:209]])\n",
    "cv8 = CountVectorizer()\n",
    "cv8=cv8.fit(rest_eightth_20[\"relevant_data\"])\n",
    "\n",
    "\n",
    "gnb = GaussianNB()\n",
    "gnb = gnb.fit(cv8.transform(rest_eightth_20['relevant_data']).toarray(), rest_eightth_20[\"label\"].tolist())\n",
    "preds_eightth_20 = gnb.predict(cv8.transform(eightth_20['relevant_data']).toarray())\n",
    "acc8=accuracy_score(preds_eightth_20,eightth_20['label'].tolist())\n",
    "al.append(acc8)\n",
    "acc8\n"
   ]
  },
  {
   "cell_type": "code",
   "execution_count": 121,
   "metadata": {},
   "outputs": [
    {
     "data": {
      "text/plain": [
       "1.0"
      ]
     },
     "execution_count": 121,
     "metadata": {},
     "output_type": "execute_result"
    }
   ],
   "source": [
    "nineth_20= datacut.iloc[168:188]\n",
    "rest_nineth_20 = pandas.concat([datacut.iloc[0:168],datacut.iloc[188:209]])\n",
    "cv9 = CountVectorizer()\n",
    "cv9=cv9.fit(rest_nineth_20[\"relevant_data\"])\n",
    "\n",
    "\n",
    "gnb = GaussianNB()\n",
    "gnb = gnb.fit(cv9.transform(rest_nineth_20['relevant_data']).toarray(), rest_nineth_20[\"label\"].tolist())\n",
    "preds_nineth_20 = gnb.predict(cv9.transform(nineth_20['relevant_data']).toarray())\n",
    "acc9=accuracy_score(preds_nineth_20,nineth_20['label'].tolist())\n",
    "al.append(acc9)\n",
    "acc9\n"
   ]
  },
  {
   "cell_type": "code",
   "execution_count": 122,
   "metadata": {},
   "outputs": [
    {
     "data": {
      "text/plain": [
       "1.0"
      ]
     },
     "execution_count": 122,
     "metadata": {},
     "output_type": "execute_result"
    }
   ],
   "source": [
    "tenth_20= datacut.iloc[188:208]\n",
    "rest_tenth_20 = pandas.concat([datacut.iloc[0:188],datacut.iloc[208:209]])\n",
    "cv10 = CountVectorizer()\n",
    "cv10=cv10.fit(rest_tenth_20[\"relevant_data\"])\n",
    "\n",
    "\n",
    "gnb = GaussianNB()\n",
    "gnb = gnb.fit(cv10.transform(rest_tenth_20['relevant_data']).toarray(), rest_tenth_20[\"label\"].tolist())\n",
    "preds_tenth_20 = gnb.predict(cv10.transform(tenth_20['relevant_data']).toarray())\n",
    "acc10=accuracy_score(preds_tenth_20,tenth_20['label'].tolist())\n",
    "al.append(acc10)\n",
    "acc10"
   ]
  },
  {
   "cell_type": "code",
   "execution_count": 126,
   "metadata": {},
   "outputs": [
    {
     "data": {
      "text/plain": [
       "0.8800000000000001"
      ]
     },
     "execution_count": 126,
     "metadata": {},
     "output_type": "execute_result"
    }
   ],
   "source": [
    "#calculate the mean accuracy:\n",
    "#al is the accuracylist with an accuracy value for every interval I chose\n",
    "mean_accu =sum(al)/len(al)\n",
    "mean_accu"
   ]
  },
  {
   "cell_type": "code",
   "execution_count": 125,
   "metadata": {},
   "outputs": [
    {
     "data": {
      "text/plain": [
       "[1.0, 1.0, 0.75, 0.8, 0.8, 0.75, 0.8, 0.9, 1.0, 1.0]"
      ]
     },
     "execution_count": 125,
     "metadata": {},
     "output_type": "execute_result"
    }
   ],
   "source": [
    "al"
   ]
  }
 ],
 "metadata": {
  "kernelspec": {
   "display_name": "Python 3",
   "language": "python",
   "name": "python3"
  },
  "language_info": {
   "codemirror_mode": {
    "name": "ipython",
    "version": 3
   },
   "file_extension": ".py",
   "mimetype": "text/x-python",
   "name": "python",
   "nbconvert_exporter": "python",
   "pygments_lexer": "ipython3",
   "version": "3.7.3"
  }
 },
 "nbformat": 4,
 "nbformat_minor": 2
}
